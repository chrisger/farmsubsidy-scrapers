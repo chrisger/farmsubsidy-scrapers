{
 "cells": [
  {
   "cell_type": "code",
   "execution_count": null,
   "metadata": {},
   "outputs": [],
   "source": [
    "!wget -nc -O dk_2016_raw.csv http://tastselv.ferv.fvm.dk/DFFETILSKUD/f?p=1002:1:8713342471096590:FLOW_EXCEL_OUTPUT_R1193370060391043250_da"
   ]
  },
  {
   "cell_type": "code",
   "execution_count": null,
   "metadata": {},
   "outputs": [],
   "source": [
    "import pandas as pd"
   ]
  },
  {
   "cell_type": "code",
   "execution_count": null,
   "metadata": {},
   "outputs": [],
   "source": [
    "YEAR = 2016"
   ]
  },
  {
   "cell_type": "code",
   "execution_count": null,
   "metadata": {},
   "outputs": [],
   "source": [
    "def get_year(year):\n",
    "    df = pd.read_csv('dk_%s_raw.csv.gz' % year, encoding='latin-1', delimiter=';', compression='gzip')\n",
    "    df['year'] = year\n",
    "    return df\n",
    "\n",
    "df = get_year(YEAR)\n",
    "df.head()"
   ]
  },
  {
   "cell_type": "code",
   "execution_count": null,
   "metadata": {},
   "outputs": [],
   "source": [
    "df['year'].value_counts()"
   ]
  },
  {
   "cell_type": "code",
   "execution_count": null,
   "metadata": {},
   "outputs": [],
   "source": [
    "import re\n",
    "from slugify import slugify\n",
    "\n",
    "NUM_RE = re.compile('\\[Anonym - (\\d+)\\]')\n",
    "get_id = lambda x: NUM_RE.match(x).group(1)\n",
    "df['recipient_id'] = df.apply(lambda x: 'DK-%s' % get_id(x['Navn']) if x['Navn'].startswith('[Anonym - ') else\n",
    "                                        'DK-%s-%s' % (x['Postnr'], slugify(x['Navn'])), 1)\n",
    "df['Navn'] = df['Navn'].apply(lambda x: '' if x.startswith('[Anonym - ') else x)\n",
    "df.head()"
   ]
  },
  {
   "cell_type": "code",
   "execution_count": null,
   "metadata": {},
   "outputs": [],
   "source": [
    "df['recipient_location'] = df.apply(lambda x: '%s, %s' % (x['Kommune'], x['Region']), 1)\n",
    "\n",
    "df = df.rename(columns={\n",
    "    'Navn': 'recipient_name',\n",
    "    'Postnr': 'recipient_postcode',\n",
    "    'Measure': 'scheme',\n",
    "    'EU(DKK)': 'amount'\n",
    "})\n",
    "\n",
    "df['currency'] = 'DKK'\n",
    "df['country'] = 'DK'\n",
    "df['year'] = YEAR\n",
    "df.head()"
   ]
  },
  {
   "cell_type": "code",
   "execution_count": null,
   "metadata": {},
   "outputs": [],
   "source": [
    "df = df.drop(['Kommune', 'Region', 'National(DKK)', 'Sum(DKK)', 'Totalt(DKK)', 'Unnamed: 8'], 1)\n",
    "df.head()"
   ]
  },
  {
   "cell_type": "code",
   "execution_count": null,
   "metadata": {},
   "outputs": [],
   "source": [
    "len(df)"
   ]
  },
  {
   "cell_type": "code",
   "execution_count": null,
   "metadata": {},
   "outputs": [],
   "source": [
    "df['amount'] = pd.to_numeric(df['amount'].str.replace('.', '').str.replace(',', '.'))"
   ]
  },
  {
   "cell_type": "code",
   "execution_count": null,
   "metadata": {},
   "outputs": [],
   "source": [
    "df['amount'].sum()"
   ]
  },
  {
   "cell_type": "code",
   "execution_count": null,
   "metadata": {},
   "outputs": [],
   "source": [
    "df.to_csv('dk_%s.csv.gz' % YEAR, index=False, encoding='utf-8', compression='gzip')"
   ]
  }
 ],
 "metadata": {
  "kernelspec": {
   "display_name": "Python 3",
   "language": "python",
   "name": "python3"
  },
  "language_info": {
   "codemirror_mode": {
    "name": "ipython",
    "version": 3
   },
   "file_extension": ".py",
   "mimetype": "text/x-python",
   "name": "python",
   "nbconvert_exporter": "python",
   "pygments_lexer": "ipython3",
   "version": "3.5.2"
  }
 },
 "nbformat": 4,
 "nbformat_minor": 1
}
