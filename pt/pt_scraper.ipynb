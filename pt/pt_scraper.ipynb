{
 "cells": [
  {
   "cell_type": "code",
   "execution_count": null,
   "metadata": {},
   "outputs": [],
   "source": [
    "# !wget -nc https://aplj13.ifap.min-agricultura.pt/idigital.consultarFundos/pub/FEAGA_FEADER_2014.zip]\n",
    "# !wget -nc https://aplj13.ifap.min-agricultura.pt/idigital.consultarFundos/pub/FEAGA_FEADER_2015.zip"
   ]
  },
  {
   "cell_type": "code",
   "execution_count": null,
   "metadata": {},
   "outputs": [],
   "source": [
    "!wget -nc https://aplj13.ifap.min-agricultura.pt/idigital.consultarFundos/pub/FEAGA_FEADER_2016.zip"
   ]
  },
  {
   "cell_type": "code",
   "execution_count": null,
   "metadata": {},
   "outputs": [],
   "source": [
    "import pandas as pd\n",
    "import numpy as np"
   ]
  },
  {
   "cell_type": "code",
   "execution_count": null,
   "metadata": {},
   "outputs": [],
   "source": [
    "YEAR = 2016"
   ]
  },
  {
   "cell_type": "code",
   "execution_count": null,
   "metadata": {},
   "outputs": [],
   "source": [
    "df = pd.read_csv('FEAGA_FEADER_%s.zip' % YEAR, delimiter=';', encoding='latin1', skiprows=1, compression='zip')\n",
    "df.head()"
   ]
  },
  {
   "cell_type": "code",
   "execution_count": null,
   "metadata": {},
   "outputs": [],
   "source": [
    "df = df.rename(columns={\n",
    "        'exercicio': 'year',\n",
    "        'medida': 'scheme',\n",
    "        'montante': 'amount',\n",
    "        'denominacao': 'recipient_name',\n",
    "        'codigo_postal': 'recipient_postcode',\n",
    "    })\n",
    "df['distrito'] = pd.to_numeric(df['distrito'], errors='coerce')\n",
    "df['concelho'] = pd.to_numeric(df['concelho'], errors='coerce')\n",
    "\n",
    "distrito_dict = df.groupby(['distrito']).first()['descricao_distrito'].to_dict()\n",
    "concelho_dict = df.groupby(['concelho']).first()['descricao_concelho'].to_dict()\n",
    "df['distrito'] = df['distrito'].map(distrito_dict)\n",
    "df['concelho'] = df['concelho'].map(concelho_dict)\n",
    "df = df.drop(['descricao_distrito', 'descricao_concelho'], 1)\n",
    "df.head()"
   ]
  },
  {
   "cell_type": "code",
   "execution_count": null,
   "metadata": {},
   "outputs": [],
   "source": [
    "df['concelho'] = df['concelho'].fillna('')\n",
    "df['distrito'] = df['distrito'].fillna('')\n",
    "df.head()"
   ]
  },
  {
   "cell_type": "code",
   "execution_count": null,
   "metadata": {},
   "outputs": [],
   "source": [
    "df['recipient_location'] = df.apply(lambda x: u'%s, %s' % (x['concelho'] or '', x['distrito']), 1)\n",
    "df['amount'] = pd.to_numeric(df['amount'].str.replace(',', '.'))\n",
    "df.head()"
   ]
  },
  {
   "cell_type": "code",
   "execution_count": null,
   "metadata": {},
   "outputs": [],
   "source": [
    "len(df)"
   ]
  },
  {
   "cell_type": "code",
   "execution_count": null,
   "metadata": {},
   "outputs": [],
   "source": [
    "from slugify import slugify\n",
    "df['recipient_id'] = df.apply(lambda x: 'PT-%s-%s' % (x['recipient_postcode'], slugify(x['recipient_name'])), 1)\n",
    "df = df.drop(['distrito', 'concelho'], 1)\n",
    "df['currency'] = 'EUR'\n",
    "df['country'] = 'PT'\n",
    "df.head()"
   ]
  },
  {
   "cell_type": "code",
   "execution_count": null,
   "metadata": {},
   "outputs": [],
   "source": [
    "df['year'].value_counts()"
   ]
  },
  {
   "cell_type": "code",
   "execution_count": null,
   "metadata": {},
   "outputs": [],
   "source": [
    "df.to_csv('pt_%s.csv.gz' % YEAR, index=False, encoding='utf-8', compression='gzip')"
   ]
  }
 ],
 "metadata": {
  "kernelspec": {
   "display_name": "Python 3",
   "language": "python",
   "name": "python3"
  },
  "language_info": {
   "codemirror_mode": {
    "name": "ipython",
    "version": 3
   },
   "file_extension": ".py",
   "mimetype": "text/x-python",
   "name": "python",
   "nbconvert_exporter": "python",
   "pygments_lexer": "ipython3",
   "version": "3.5.2"
  }
 },
 "nbformat": 4,
 "nbformat_minor": 1
}
