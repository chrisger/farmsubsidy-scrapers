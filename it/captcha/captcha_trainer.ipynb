{
 "cells": [
  {
   "cell_type": "code",
   "execution_count": 224,
   "metadata": {},
   "outputs": [
    {
     "name": "stdout",
     "output_type": "stream",
     "text": [
      "The autoreload extension is already loaded. To reload it, use:\n",
      "  %reload_ext autoreload\n"
     ]
    }
   ],
   "source": [
    "%load_ext autoreload\n",
    "%autoreload 2\n",
    "import base64\n",
    "import glob\n",
    "import time\n",
    "import os\n",
    "import io\n",
    "\n",
    "import numpy as np\n",
    "\n",
    "from PIL import Image\n",
    "\n",
    "import keras\n",
    "from keras.preprocessing.image import ImageDataGenerator, array_to_img, img_to_array, load_img\n",
    "\n",
    "import requests\n",
    "\n",
    "from IPython.core.display import display, HTML\n",
    "from IPython.display import clear_output\n",
    "\n",
    "from agea_captcha import captcha"
   ]
  },
  {
   "cell_type": "code",
   "execution_count": 350,
   "metadata": {},
   "outputs": [],
   "source": [
    "captcha.extract_data('../captchas.txt', recreate=True)"
   ]
  },
  {
   "cell_type": "code",
   "execution_count": 351,
   "metadata": {},
   "outputs": [],
   "source": [
    "image_path = 'data/images.npy'\n",
    "label_path = 'data/labels.npy'"
   ]
  },
  {
   "cell_type": "code",
   "execution_count": 352,
   "metadata": {},
   "outputs": [],
   "source": [
    "images = np.load(image_path)\n",
    "labels = np.load(label_path)\n",
    "\n",
    "TOTAL_SIZE = len(images)\n",
    "VALIDATION_SIZE = int(TOTAL_SIZE / 5)\n",
    "TEST_SIZE = int(TOTAL_SIZE / 5)\n",
    "\n",
    "test_images = images[:TEST_SIZE]\n",
    "test_labels = labels[:TEST_SIZE]\n",
    "\n",
    "train_images = images[TEST_SIZE:]\n",
    "train_labels = labels[TEST_SIZE:]\n",
    "\n",
    "validation_images = train_images[:VALIDATION_SIZE]\n",
    "validation_labels = train_labels[:VALIDATION_SIZE]\n",
    "train_images = train_images[VALIDATION_SIZE:]\n",
    "train_labels = train_labels[VALIDATION_SIZE:]"
   ]
  },
  {
   "cell_type": "code",
   "execution_count": 353,
   "metadata": {},
   "outputs": [],
   "source": [
    "train_datagen = ImageDataGenerator(\n",
    "        rotation_range=20,\n",
    "        width_shift_range=0.5,\n",
    "        height_shift_range=0.3,\n",
    "        shear_range=0.4,\n",
    "        horizontal_flip=False,\n",
    "        fill_mode='constant',\n",
    "        cval=1\n",
    "    )\n",
    "\n",
    "test_datagen = ImageDataGenerator()"
   ]
  },
  {
   "cell_type": "code",
   "execution_count": 269,
   "metadata": {},
   "outputs": [],
   "source": [
    "model = captcha.make_model()"
   ]
  },
  {
   "cell_type": "code",
   "execution_count": 354,
   "metadata": {},
   "outputs": [],
   "source": [
    "train_generator = train_datagen.flow(\n",
    "    train_images, train_labels,\n",
    "#     save_to_dir='train_generator'\n",
    ")\n",
    "validation_generator = train_datagen.flow(validation_images, validation_labels)"
   ]
  },
  {
   "cell_type": "code",
   "execution_count": 355,
   "metadata": {},
   "outputs": [
    {
     "name": "stdout",
     "output_type": "stream",
     "text": [
      "Epoch 1/50\n",
      "125/125 [==============================] - 27s 213ms/step - loss: 0.6342 - acc: 0.8084 - val_loss: 0.2211 - val_acc: 0.9358\n",
      "Epoch 2/50\n",
      "125/125 [==============================] - 26s 205ms/step - loss: 0.5800 - acc: 0.8174 - val_loss: 0.3486 - val_acc: 0.9083\n",
      "Epoch 3/50\n",
      "125/125 [==============================] - 26s 206ms/step - loss: 0.5430 - acc: 0.8229 - val_loss: 0.3034 - val_acc: 0.9174\n",
      "Epoch 4/50\n",
      "125/125 [==============================] - 27s 219ms/step - loss: 0.5415 - acc: 0.8279 - val_loss: 0.2978 - val_acc: 0.9021\n",
      "Epoch 5/50\n",
      "125/125 [==============================] - 26s 211ms/step - loss: 0.5201 - acc: 0.8368 - val_loss: 0.2308 - val_acc: 0.9297\n",
      "Epoch 6/50\n",
      "125/125 [==============================] - 30s 239ms/step - loss: 0.5373 - acc: 0.8275 - val_loss: 0.3459 - val_acc: 0.9113\n",
      "Epoch 7/50\n",
      "125/125 [==============================] - 27s 212ms/step - loss: 0.4821 - acc: 0.8443 - val_loss: 0.3223 - val_acc: 0.8960\n",
      "Epoch 8/50\n",
      "125/125 [==============================] - 27s 214ms/step - loss: 0.4765 - acc: 0.8403 - val_loss: 0.2293 - val_acc: 0.9297\n",
      "Epoch 9/50\n",
      "125/125 [==============================] - 27s 215ms/step - loss: 0.4870 - acc: 0.8393 - val_loss: 0.5587 - val_acc: 0.8838\n",
      "Epoch 10/50\n",
      "125/125 [==============================] - 25s 197ms/step - loss: 0.4613 - acc: 0.8492 - val_loss: 0.6067 - val_acc: 0.8746\n",
      "Epoch 11/50\n",
      "125/125 [==============================] - 25s 199ms/step - loss: 0.4921 - acc: 0.8333 - val_loss: 0.2703 - val_acc: 0.9327\n",
      "Epoch 12/50\n",
      "125/125 [==============================] - 24s 195ms/step - loss: 0.4660 - acc: 0.8408 - val_loss: 0.1953 - val_acc: 0.9419\n",
      "Epoch 13/50\n",
      "125/125 [==============================] - 25s 201ms/step - loss: 0.4874 - acc: 0.8395 - val_loss: 0.3818 - val_acc: 0.8930\n",
      "Epoch 14/50\n",
      "125/125 [==============================] - 24s 195ms/step - loss: 0.4477 - acc: 0.8553 - val_loss: 0.3734 - val_acc: 0.8777\n",
      "Epoch 15/50\n",
      "125/125 [==============================] - 24s 195ms/step - loss: 0.4387 - acc: 0.8497 - val_loss: 0.2721 - val_acc: 0.9174\n",
      "Epoch 16/50\n",
      "125/125 [==============================] - 25s 199ms/step - loss: 0.4700 - acc: 0.8373 - val_loss: 0.3223 - val_acc: 0.8838\n",
      "Epoch 17/50\n",
      "125/125 [==============================] - 24s 195ms/step - loss: 0.4531 - acc: 0.8505 - val_loss: 0.2634 - val_acc: 0.9205\n",
      "Epoch 18/50\n",
      "125/125 [==============================] - 26s 210ms/step - loss: 0.4237 - acc: 0.8584 - val_loss: 0.5304 - val_acc: 0.8869\n",
      "Epoch 19/50\n",
      "125/125 [==============================] - 26s 205ms/step - loss: 0.4325 - acc: 0.8602 - val_loss: 0.3062 - val_acc: 0.9113\n",
      "Epoch 20/50\n",
      "125/125 [==============================] - 26s 206ms/step - loss: 0.4599 - acc: 0.8529 - val_loss: 2.1484 - val_acc: 0.6086\n",
      "Epoch 21/50\n",
      "125/125 [==============================] - 25s 198ms/step - loss: 0.4367 - acc: 0.8598 - val_loss: 0.3374 - val_acc: 0.8930\n",
      "Epoch 22/50\n",
      "125/125 [==============================] - 25s 199ms/step - loss: 0.4433 - acc: 0.8539 - val_loss: 0.2835 - val_acc: 0.9174\n",
      "Epoch 23/50\n",
      "125/125 [==============================] - 25s 200ms/step - loss: 0.4382 - acc: 0.8545 - val_loss: 0.2759 - val_acc: 0.9327\n",
      "Epoch 24/50\n",
      "125/125 [==============================] - 25s 199ms/step - loss: 0.4353 - acc: 0.8527 - val_loss: 0.3802 - val_acc: 0.8869\n",
      "Epoch 25/50\n",
      "125/125 [==============================] - 26s 205ms/step - loss: 0.4239 - acc: 0.8565 - val_loss: 0.7902 - val_acc: 0.7706\n",
      "Epoch 26/50\n",
      "125/125 [==============================] - 25s 199ms/step - loss: 0.4363 - acc: 0.8496 - val_loss: 0.5861 - val_acc: 0.8226\n",
      "Epoch 27/50\n",
      "125/125 [==============================] - 25s 199ms/step - loss: 0.4157 - acc: 0.8575 - val_loss: 0.2791 - val_acc: 0.9327\n",
      "Epoch 28/50\n",
      "125/125 [==============================] - 25s 200ms/step - loss: 0.4101 - acc: 0.8672 - val_loss: 0.2687 - val_acc: 0.9235\n",
      "Epoch 29/50\n",
      "125/125 [==============================] - 26s 208ms/step - loss: 0.4102 - acc: 0.8609 - val_loss: 0.2519 - val_acc: 0.9174\n",
      "Epoch 30/50\n",
      "125/125 [==============================] - 25s 203ms/step - loss: 0.4175 - acc: 0.8604 - val_loss: 0.4694 - val_acc: 0.8746\n",
      "Epoch 31/50\n",
      "125/125 [==============================] - 25s 199ms/step - loss: 0.3857 - acc: 0.8694 - val_loss: 0.3622 - val_acc: 0.8930\n",
      "Epoch 32/50\n",
      "125/125 [==============================] - 25s 200ms/step - loss: 0.4177 - acc: 0.8535 - val_loss: 2.5614 - val_acc: 0.5352\n",
      "Epoch 33/50\n",
      "125/125 [==============================] - 26s 209ms/step - loss: 0.4021 - acc: 0.8583 - val_loss: 0.4406 - val_acc: 0.9113\n",
      "Epoch 34/50\n",
      "125/125 [==============================] - 25s 198ms/step - loss: 0.4044 - acc: 0.8646 - val_loss: 0.4756 - val_acc: 0.8624\n",
      "Epoch 35/50\n",
      "125/125 [==============================] - 25s 203ms/step - loss: 0.4031 - acc: 0.8616 - val_loss: 0.4253 - val_acc: 0.8807\n",
      "Epoch 36/50\n",
      "125/125 [==============================] - 24s 196ms/step - loss: 0.4180 - acc: 0.8578 - val_loss: 0.3461 - val_acc: 0.8991\n",
      "Epoch 37/50\n",
      "125/125 [==============================] - 24s 195ms/step - loss: 0.3936 - acc: 0.8653 - val_loss: 0.2763 - val_acc: 0.9205\n",
      "Epoch 38/50\n",
      "125/125 [==============================] - 25s 196ms/step - loss: 0.4287 - acc: 0.8561 - val_loss: 0.6710 - val_acc: 0.8257\n",
      "Epoch 39/50\n",
      "125/125 [==============================] - 24s 195ms/step - loss: 0.3999 - acc: 0.8648 - val_loss: 0.5214 - val_acc: 0.8685\n",
      "Epoch 40/50\n",
      "125/125 [==============================] - 25s 197ms/step - loss: 0.4051 - acc: 0.8652 - val_loss: 0.3431 - val_acc: 0.9052\n",
      "Epoch 41/50\n",
      "125/125 [==============================] - 25s 199ms/step - loss: 0.4010 - acc: 0.8650 - val_loss: 0.3517 - val_acc: 0.8991\n",
      "Epoch 42/50\n",
      "125/125 [==============================] - 25s 196ms/step - loss: 0.4022 - acc: 0.8586 - val_loss: 0.2609 - val_acc: 0.9205\n",
      "Epoch 43/50\n",
      "125/125 [==============================] - 25s 197ms/step - loss: 0.3949 - acc: 0.8611 - val_loss: 0.3191 - val_acc: 0.9144\n",
      "Epoch 44/50\n",
      "125/125 [==============================] - 25s 196ms/step - loss: 0.3973 - acc: 0.8674 - val_loss: 0.5339 - val_acc: 0.8869\n",
      "Epoch 45/50\n",
      "125/125 [==============================] - 25s 197ms/step - loss: 0.3812 - acc: 0.8739 - val_loss: 0.5361 - val_acc: 0.8471\n",
      "Epoch 46/50\n",
      "125/125 [==============================] - 25s 197ms/step - loss: 0.3927 - acc: 0.8703 - val_loss: 0.5263 - val_acc: 0.8899\n",
      "Epoch 47/50\n",
      "125/125 [==============================] - 25s 202ms/step - loss: 0.3900 - acc: 0.8637 - val_loss: 0.2755 - val_acc: 0.9052\n",
      "Epoch 48/50\n",
      "125/125 [==============================] - 26s 209ms/step - loss: 0.3930 - acc: 0.8701 - val_loss: 0.8417 - val_acc: 0.8135\n",
      "Epoch 49/50\n",
      "125/125 [==============================] - 27s 216ms/step - loss: 0.3859 - acc: 0.8624 - val_loss: 0.9952 - val_acc: 0.7645\n",
      "Epoch 50/50\n",
      "125/125 [==============================] - 28s 224ms/step - loss: 0.3867 - acc: 0.8727 - val_loss: 0.1803 - val_acc: 0.9388\n"
     ]
    },
    {
     "data": {
      "text/plain": [
       "<keras.callbacks.History at 0x163032470>"
      ]
     },
     "execution_count": 355,
     "metadata": {},
     "output_type": "execute_result"
    }
   ],
   "source": [
    "batch_size = 16\n",
    "\n",
    "keras_tensorboard_callback = keras.callbacks.TensorBoard(\n",
    "    log_dir='./graph', write_graph=True,\n",
    "    write_grads=True, write_images=True,\n",
    "    histogram_freq=0\n",
    ")\n",
    "\n",
    "model.fit_generator(\n",
    "        train_generator,\n",
    "        steps_per_epoch=2000 // batch_size,\n",
    "        epochs=50,\n",
    "#         validation_data=validation_generator,\n",
    "        validation_data=(validation_images, validation_labels),\n",
    "        validation_steps=validation_images.shape[0] // batch_size,\n",
    "        callbacks=[\n",
    "#             ModelCheckpoint('models/gtsrb1-{epoch}.hdf5', verbose=1, save_best_only = True),\n",
    "            keras_tensorboard_callback,\n",
    "#             EarlyStopping(patience=5, verbose=1),\n",
    "        ]\n",
    ")"
   ]
  },
  {
   "cell_type": "code",
   "execution_count": 358,
   "metadata": {},
   "outputs": [],
   "source": [
    "model.save_weights('agea_11.h5')"
   ]
  },
  {
   "cell_type": "code",
   "execution_count": 305,
   "metadata": {},
   "outputs": [
    {
     "data": {
      "text/plain": [
       "[1.7663684422905381, 0.6858108108108109]"
      ]
     },
     "execution_count": 305,
     "metadata": {},
     "output_type": "execute_result"
    }
   ],
   "source": [
    "score = model.evaluate_generator(validation_generator)\n",
    "score"
   ]
  },
  {
   "cell_type": "code",
   "execution_count": 356,
   "metadata": {},
   "outputs": [],
   "source": [
    "cs = captcha.CaptchaSolver(model=model)"
   ]
  },
  {
   "cell_type": "code",
   "execution_count": 330,
   "metadata": {},
   "outputs": [],
   "source": [
    "def show_predicted(cs):\n",
    "    response = requests.get('https://www.sian.it/pubbAimu/Captcha.jpg')\n",
    "    img = Image.open(io.BytesIO(response.content))\n",
    "    display(img)\n",
    "    return cs.predict(img)"
   ]
  },
  {
   "cell_type": "code",
   "execution_count": 357,
   "metadata": {},
   "outputs": [
    {
     "data": {
      "image/png": "[encoded data removed]",
      "text/plain": [
       "<PIL.JpegImagePlugin.JpegImageFile image mode=RGB size=200x50 at 0x16303E940>"
      ]
     },
     "metadata": {},
     "output_type": "display_data"
    },
    {
     "data": {
      "text/plain": [
       "'g767y'"
      ]
     },
     "execution_count": 357,
     "metadata": {},
     "output_type": "execute_result"
    }
   ],
   "source": [
    "show_predicted(cs)"
   ]
  }
 ],
 "metadata": {
  "kernelspec": {
   "display_name": "Python 3",
   "language": "python",
   "name": "python3"
  },
  "language_info": {
   "codemirror_mode": {
    "name": "ipython",
    "version": 3
   },
   "file_extension": ".py",
   "mimetype": "text/x-python",
   "name": "python",
   "nbconvert_exporter": "python",
   "pygments_lexer": "ipython3",
   "version": "3.6.2"
  }
 },
 "nbformat": 4,
 "nbformat_minor": 2
}
