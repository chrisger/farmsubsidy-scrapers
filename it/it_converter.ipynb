{
 "cells": [
  {
   "cell_type": "code",
   "execution_count": 1,
   "metadata": {},
   "outputs": [],
   "source": [
    "import pandas as pd"
   ]
  },
  {
   "cell_type": "code",
   "execution_count": 25,
   "metadata": {},
   "outputs": [],
   "source": [
    "YEAR = 2016"
   ]
  },
  {
   "cell_type": "code",
   "execution_count": 26,
   "metadata": {},
   "outputs": [
    {
     "data": {
      "text/html": [
       "<div>\n",
       "<style scoped>\n",
       "    .dataframe tbody tr th:only-of-type {\n",
       "        vertical-align: middle;\n",
       "    }\n",
       "\n",
       "    .dataframe tbody tr th {\n",
       "        vertical-align: top;\n",
       "    }\n",
       "\n",
       "    .dataframe thead th {\n",
       "        text-align: right;\n",
       "    }\n",
       "</style>\n",
       "<table border=\"1\" class=\"dataframe\">\n",
       "  <thead>\n",
       "    <tr style=\"text-align: right;\">\n",
       "      <th></th>\n",
       "      <th>recipient_id</th>\n",
       "      <th>recipient_location</th>\n",
       "      <th>recipient_name</th>\n",
       "      <th>recipient_postcode</th>\n",
       "      <th>total_amount</th>\n",
       "    </tr>\n",
       "  </thead>\n",
       "  <tbody>\n",
       "    <tr>\n",
       "      <th>0</th>\n",
       "      <td>f-in-a-f-first-internetional-association-fruit...</td>\n",
       "      <td>CASTENASO, BOLOGNA</td>\n",
       "      <td>F.IN.A.F. FIRST INTERNETIONAL ASSOCIATION FRUI...</td>\n",
       "      <td>40055</td>\n",
       "      <td>38288495.21</td>\n",
       "    </tr>\n",
       "    <tr>\n",
       "      <th>1</th>\n",
       "      <td>aop-gruppo-vi-va-visione-valore-societa-cooper...</td>\n",
       "      <td>CESENA, FORLI' - CESENA</td>\n",
       "      <td>AOP GRUPPO VI.VA. VISIONE VALORE SOCIETA' COOP...</td>\n",
       "      <td>47522</td>\n",
       "      <td>22543307.21</td>\n",
       "    </tr>\n",
       "    <tr>\n",
       "      <th>2</th>\n",
       "      <td>vi-p-gen-landw-gesellschaft-39021-laces-latsch...</td>\n",
       "      <td>LACES .LATSCH., BOLZANO</td>\n",
       "      <td>VI.P GEN. LANDW. GESELLSCHAFT</td>\n",
       "      <td>39021</td>\n",
       "      <td>9550771.61</td>\n",
       "    </tr>\n",
       "    <tr>\n",
       "      <th>3</th>\n",
       "      <td>vi-p-gen-landw-gesellschaft-39021-laces-latsch...</td>\n",
       "      <td>LACES .LATSCH., BOLZANO</td>\n",
       "      <td>VI.P GEN. LANDW. GESELLSCHAFT</td>\n",
       "      <td>39021</td>\n",
       "      <td>9550771.61</td>\n",
       "    </tr>\n",
       "    <tr>\n",
       "      <th>4</th>\n",
       "      <td>aop-unolombardia-societa-agricola-consortile-p...</td>\n",
       "      <td>SAN GIULIANO MILANESE, MILANO</td>\n",
       "      <td>AOP UNOLOMBARDIA SOCIETA' AGRICOLA CONSORTILE ...</td>\n",
       "      <td>20098</td>\n",
       "      <td>9378732.79</td>\n",
       "    </tr>\n",
       "  </tbody>\n",
       "</table>\n",
       "</div>"
      ],
      "text/plain": [
       "                                        recipient_id  \\\n",
       "0  f-in-a-f-first-internetional-association-fruit...   \n",
       "1  aop-gruppo-vi-va-visione-valore-societa-cooper...   \n",
       "2  vi-p-gen-landw-gesellschaft-39021-laces-latsch...   \n",
       "3  vi-p-gen-landw-gesellschaft-39021-laces-latsch...   \n",
       "4  aop-unolombardia-societa-agricola-consortile-p...   \n",
       "\n",
       "              recipient_location  \\\n",
       "0             CASTENASO, BOLOGNA   \n",
       "1        CESENA, FORLI' - CESENA   \n",
       "2        LACES .LATSCH., BOLZANO   \n",
       "3        LACES .LATSCH., BOLZANO   \n",
       "4  SAN GIULIANO MILANESE, MILANO   \n",
       "\n",
       "                                      recipient_name recipient_postcode  \\\n",
       "0  F.IN.A.F. FIRST INTERNETIONAL ASSOCIATION FRUI...              40055   \n",
       "1  AOP GRUPPO VI.VA. VISIONE VALORE SOCIETA' COOP...              47522   \n",
       "2                      VI.P GEN. LANDW. GESELLSCHAFT              39021   \n",
       "3                      VI.P GEN. LANDW. GESELLSCHAFT              39021   \n",
       "4  AOP UNOLOMBARDIA SOCIETA' AGRICOLA CONSORTILE ...              20098   \n",
       "\n",
       "   total_amount  \n",
       "0   38288495.21  \n",
       "1   22543307.21  \n",
       "2    9550771.61  \n",
       "3    9550771.61  \n",
       "4    9378732.79  "
      ]
     },
     "execution_count": 26,
     "metadata": {},
     "output_type": "execute_result"
    }
   ],
   "source": [
    "df = pd.read_csv('it_{}_raw.csv.gz'.format(YEAR), converters={'recipient_postcode': str})\n",
    "df.head()"
   ]
  },
  {
   "cell_type": "code",
   "execution_count": 27,
   "metadata": {},
   "outputs": [
    {
     "data": {
      "text/plain": [
       "273300"
      ]
     },
     "execution_count": 27,
     "metadata": {},
     "output_type": "execute_result"
    }
   ],
   "source": [
    "len(df)"
   ]
  },
  {
   "cell_type": "code",
   "execution_count": 28,
   "metadata": {},
   "outputs": [
    {
     "data": {
      "text/plain": [
       "160857"
      ]
     },
     "execution_count": 28,
     "metadata": {},
     "output_type": "execute_result"
    }
   ],
   "source": [
    "(~df.duplicated()).sum()"
   ]
  },
  {
   "cell_type": "code",
   "execution_count": 29,
   "metadata": {},
   "outputs": [
    {
     "data": {
      "text/plain": [
       "160857"
      ]
     },
     "execution_count": 29,
     "metadata": {},
     "output_type": "execute_result"
    }
   ],
   "source": [
    "df = df[~df.duplicated()]\n",
    "len(df)"
   ]
  },
  {
   "cell_type": "code",
   "execution_count": 30,
   "metadata": {},
   "outputs": [
    {
     "data": {
      "text/html": [
       "<div>\n",
       "<style scoped>\n",
       "    .dataframe tbody tr th:only-of-type {\n",
       "        vertical-align: middle;\n",
       "    }\n",
       "\n",
       "    .dataframe tbody tr th {\n",
       "        vertical-align: top;\n",
       "    }\n",
       "\n",
       "    .dataframe thead th {\n",
       "        text-align: right;\n",
       "    }\n",
       "</style>\n",
       "<table border=\"1\" class=\"dataframe\">\n",
       "  <thead>\n",
       "    <tr style=\"text-align: right;\">\n",
       "      <th></th>\n",
       "      <th>recipient_id</th>\n",
       "      <th>recipient_location</th>\n",
       "      <th>recipient_name</th>\n",
       "      <th>recipient_postcode</th>\n",
       "      <th>amount</th>\n",
       "      <th>scheme</th>\n",
       "      <th>currency</th>\n",
       "      <th>country</th>\n",
       "    </tr>\n",
       "  </thead>\n",
       "  <tbody>\n",
       "    <tr>\n",
       "      <th>0</th>\n",
       "      <td>f-in-a-f-first-internetional-association-fruit...</td>\n",
       "      <td>CASTENASO, BOLOGNA</td>\n",
       "      <td>F.IN.A.F. FIRST INTERNETIONAL ASSOCIATION FRUI...</td>\n",
       "      <td>40055</td>\n",
       "      <td>38288495.21</td>\n",
       "      <td>__total__</td>\n",
       "      <td>EUR</td>\n",
       "      <td>IT</td>\n",
       "    </tr>\n",
       "    <tr>\n",
       "      <th>1</th>\n",
       "      <td>aop-gruppo-vi-va-visione-valore-societa-cooper...</td>\n",
       "      <td>CESENA, FORLI' - CESENA</td>\n",
       "      <td>AOP GRUPPO VI.VA. VISIONE VALORE SOCIETA' COOP...</td>\n",
       "      <td>47522</td>\n",
       "      <td>22543307.21</td>\n",
       "      <td>__total__</td>\n",
       "      <td>EUR</td>\n",
       "      <td>IT</td>\n",
       "    </tr>\n",
       "    <tr>\n",
       "      <th>2</th>\n",
       "      <td>vi-p-gen-landw-gesellschaft-39021-laces-latsch...</td>\n",
       "      <td>LACES .LATSCH., BOLZANO</td>\n",
       "      <td>VI.P GEN. LANDW. GESELLSCHAFT</td>\n",
       "      <td>39021</td>\n",
       "      <td>9550771.61</td>\n",
       "      <td>__total__</td>\n",
       "      <td>EUR</td>\n",
       "      <td>IT</td>\n",
       "    </tr>\n",
       "    <tr>\n",
       "      <th>4</th>\n",
       "      <td>aop-unolombardia-societa-agricola-consortile-p...</td>\n",
       "      <td>SAN GIULIANO MILANESE, MILANO</td>\n",
       "      <td>AOP UNOLOMBARDIA SOCIETA' AGRICOLA CONSORTILE ...</td>\n",
       "      <td>20098</td>\n",
       "      <td>9378732.79</td>\n",
       "      <td>__total__</td>\n",
       "      <td>EUR</td>\n",
       "      <td>IT</td>\n",
       "    </tr>\n",
       "    <tr>\n",
       "      <th>5</th>\n",
       "      <td>unaprol-consorzio-olivicolo-italiano-societa-c...</td>\n",
       "      <td>ROMA, ROMA</td>\n",
       "      <td>UNAPROL - CONSORZIO OLIVICOLO ITALIANO SOCIETA...</td>\n",
       "      <td>00187</td>\n",
       "      <td>9045521.62</td>\n",
       "      <td>__total__</td>\n",
       "      <td>EUR</td>\n",
       "      <td>IT</td>\n",
       "    </tr>\n",
       "  </tbody>\n",
       "</table>\n",
       "</div>"
      ],
      "text/plain": [
       "                                        recipient_id  \\\n",
       "0  f-in-a-f-first-internetional-association-fruit...   \n",
       "1  aop-gruppo-vi-va-visione-valore-societa-cooper...   \n",
       "2  vi-p-gen-landw-gesellschaft-39021-laces-latsch...   \n",
       "4  aop-unolombardia-societa-agricola-consortile-p...   \n",
       "5  unaprol-consorzio-olivicolo-italiano-societa-c...   \n",
       "\n",
       "              recipient_location  \\\n",
       "0             CASTENASO, BOLOGNA   \n",
       "1        CESENA, FORLI' - CESENA   \n",
       "2        LACES .LATSCH., BOLZANO   \n",
       "4  SAN GIULIANO MILANESE, MILANO   \n",
       "5                     ROMA, ROMA   \n",
       "\n",
       "                                      recipient_name recipient_postcode  \\\n",
       "0  F.IN.A.F. FIRST INTERNETIONAL ASSOCIATION FRUI...              40055   \n",
       "1  AOP GRUPPO VI.VA. VISIONE VALORE SOCIETA' COOP...              47522   \n",
       "2                      VI.P GEN. LANDW. GESELLSCHAFT              39021   \n",
       "4  AOP UNOLOMBARDIA SOCIETA' AGRICOLA CONSORTILE ...              20098   \n",
       "5  UNAPROL - CONSORZIO OLIVICOLO ITALIANO SOCIETA...              00187   \n",
       "\n",
       "        amount     scheme currency country  \n",
       "0  38288495.21  __total__      EUR      IT  \n",
       "1  22543307.21  __total__      EUR      IT  \n",
       "2   9550771.61  __total__      EUR      IT  \n",
       "4   9378732.79  __total__      EUR      IT  \n",
       "5   9045521.62  __total__      EUR      IT  "
      ]
     },
     "execution_count": 30,
     "metadata": {},
     "output_type": "execute_result"
    }
   ],
   "source": [
    "df = df.rename(columns={'total_amount': 'amount'})\n",
    "df['scheme'] = '__total__'\n",
    "df['recipient_postcode'] = df['recipient_postcode'].apply(lambda x: x.replace('.0', '').zfill(5))\n",
    "df['currency'] = 'EUR'\n",
    "df['country'] = 'IT'\n",
    "df.head()"
   ]
  },
  {
   "cell_type": "code",
   "execution_count": 31,
   "metadata": {},
   "outputs": [
    {
     "data": {
      "text/plain": [
       "'2,105,142,606.7500005'"
      ]
     },
     "execution_count": 31,
     "metadata": {},
     "output_type": "execute_result"
    }
   ],
   "source": [
    "'{:,}'.format(df['amount'].sum())"
   ]
  },
  {
   "cell_type": "code",
   "execution_count": 32,
   "metadata": {},
   "outputs": [],
   "source": [
    "df.to_csv('it_{}.csv.gz'.format(YEAR), compression='gzip', index=False)"
   ]
  }
 ],
 "metadata": {
  "kernelspec": {
   "display_name": "Python 3",
   "language": "python",
   "name": "python3"
  },
  "language_info": {
   "codemirror_mode": {
    "name": "ipython",
    "version": 3
   },
   "file_extension": ".py",
   "mimetype": "text/x-python",
   "name": "python",
   "nbconvert_exporter": "python",
   "pygments_lexer": "ipython3",
   "version": "3.6.2"
  }
 },
 "nbformat": 4,
 "nbformat_minor": 2
}
