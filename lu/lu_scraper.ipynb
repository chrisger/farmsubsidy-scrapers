{
 "cells": [
  {
   "cell_type": "code",
   "execution_count": null,
   "metadata": {},
   "outputs": [],
   "source": [
    "import requests\n",
    "from lxml import html\n",
    "\n",
    "import pandas as pd"
   ]
  },
  {
   "cell_type": "code",
   "execution_count": null,
   "metadata": {},
   "outputs": [],
   "source": [
    "YEARS = [2016]"
   ]
  },
  {
   "cell_type": "code",
   "execution_count": null,
   "metadata": {},
   "outputs": [],
   "source": [
    "BASE_URL = 'http://saturn.etat.lu/mafea/result.do'\n",
    "ENCODING = 'ISO-8859-1'"
   ]
  },
  {
   "cell_type": "code",
   "execution_count": null,
   "metadata": {},
   "outputs": [],
   "source": [
    "response = requests.get(BASE_URL)\n",
    "root = html.fromstring(response.text)\n",
    "COMMUNES = root.xpath('//select[@name=\"commune\"]/option/@value')\n",
    "AMOUNTS = root.xpath('//select[@name=\"value\"]/option/@value')"
   ]
  },
  {
   "cell_type": "code",
   "execution_count": null,
   "metadata": {},
   "outputs": [],
   "source": [
    "def get_queries():\n",
    "    for year in YEARS:\n",
    "        for c in COMMUNES:\n",
    "            yield (year, c,)\n",
    "\n",
    "\n",
    "def download_year(year, commune):\n",
    "    print('Running with', year, commune)\n",
    "    session = requests.Session()\n",
    "\n",
    "    for amount_range in AMOUNTS:\n",
    "        response = session.post(BASE_URL, data={\n",
    "            'year': str(year),\n",
    "            'fond': '',\n",
    "            'commune': commune,\n",
    "            'name': '',\n",
    "            'value': amount_range,\n",
    "            'action': 'Rechercher'\n",
    "        })\n",
    "        response.encoding = ENCODING\n",
    "        if 'Votre recherche ne retourne aucun résultat' in response.text:\n",
    "            continue\n",
    "        try:\n",
    "            yield from extract_recipients(year, commune, amount_range, html.fromstring(response.text))\n",
    "        except Exception as e:\n",
    "            print('Exception at', year, commune, amount_range)\n",
    "            raise e\n",
    "    print('Done with', year, commune)\n",
    "\n",
    "def extract_recipients(year, commune, amount_range, dom):\n",
    "    for div in dom.xpath('.//div[@class=\"fieldsetWrapper\"]'):\n",
    "        results = div.xpath('.//table[@class=\"results\"]//tr[@class=\"results\"]')\n",
    "        name_row = results[0]\n",
    "        name_tds = name_row.xpath('./td/text()')\n",
    "        if len(name_tds) == 3:\n",
    "            name = '%s %s' % (name_tds[1], name_tds[0])\n",
    "            location = name_tds[2]\n",
    "            recipient_id = None\n",
    "        else:\n",
    "            name = None\n",
    "            recipient_id = name_tds[0]\n",
    "            location = name_tds[1]\n",
    "\n",
    "        if recipient_id is None:\n",
    "            recipient_id = 'LU-%s-%s' % (location, name)\n",
    "        else:\n",
    "            recipient_id = 'LU-%s-%s' % (year, recipient_id)\n",
    "\n",
    "        value_rows = results[1:-1]\n",
    "        for value_row in value_rows:\n",
    "            val = value_row.xpath('./td/text()')\n",
    "            scheme = val[1]\n",
    "            amount = float(val[2].replace('€', ''))\n",
    "            year = int(val[0])\n",
    "            yield {\n",
    "                'recipient_id': recipient_id,\n",
    "                'recipient_name': name,\n",
    "                'recipient_postcode': None,\n",
    "                'recipient_location': location,\n",
    "                'scheme': scheme,\n",
    "                'amount': amount,\n",
    "                'currency': 'EUR',\n",
    "                'country': 'LU',\n",
    "                'year': year,\n",
    "            }"
   ]
  },
  {
   "cell_type": "code",
   "execution_count": null,
   "metadata": {},
   "outputs": [],
   "source": [
    "df = pd.DataFrame()\n",
    "for year, commune in get_queries():\n",
    "    df = pd.concat([df, pd.DataFrame(download_year(year, commune))])\n",
    "    print(len(df))\n",
    "    df.to_csv('lu_%s.csv.gz' % year, compression='gzip', index=False)"
   ]
  }
 ],
 "metadata": {
  "kernelspec": {
   "display_name": "Python 3",
   "language": "python",
   "name": "python3"
  },
  "language_info": {
   "codemirror_mode": {
    "name": "ipython",
    "version": 3
   },
   "file_extension": ".py",
   "mimetype": "text/x-python",
   "name": "python",
   "nbconvert_exporter": "python",
   "pygments_lexer": "ipython3",
   "version": "3.5.2"
  }
 },
 "nbformat": 4,
 "nbformat_minor": 2
}
